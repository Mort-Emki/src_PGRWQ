{
 "cells": [
  {
   "cell_type": "code",
   "execution_count": null,
   "id": "866b9819",
   "metadata": {
    "vscode": {
     "languageId": "r"
    }
   },
   "outputs": [],
   "source": [
    "import os\n",
    "import pandas as pd\n",
    "import glob\n",
    "\n",
    "# Directory containing the CSV files\n",
    "directory = r\"D:\\HuaiReachCatchment20192023daily\\timeseries\\flow\"\n",
    "\n",
    "# Get all CSV files in the directory\n",
    "csv_files = glob.glob(os.path.join(directory, \"*.csv\"))\n",
    "\n",
    "# Initialize counters\n",
    "total_files = len(csv_files)\n",
    "files_with_negatives = 0\n",
    "total_negatives = 0\n",
    "\n",
    "# Check each file for negative Qout values\n",
    "print(f\"Checking {total_files} CSV files for negative Qout values...\")\n",
    "print(\"-\" * 70)\n",
    "\n",
    "for file_path in csv_files:\n",
    "    try:\n",
    "        # Read the CSV file\n",
    "        df = pd.read_csv(file_path)\n",
    "        \n",
    "        # Check if 'Qout' column exists\n",
    "        if 'Qout' in df.columns:\n",
    "            # Find negative values in Qout\n",
    "            negative_values = df[df['Qout'] < 0]\n",
    "            neg_count = len(negative_values)\n",
    "            \n",
    "            # Report if negative values found\n",
    "            if neg_count > 0:\n",
    "                files_with_negatives += 1\n",
    "                total_negatives += neg_count\n",
    "                print(f\"File: {os.path.basename(file_path)}\")\n",
    "                print(f\"  - Contains {neg_count} negative Qout values\")\n",
    "                print(f\"  - Negative values: {negative_values['Qout'].tolist()}\")\n",
    "                print(f\"  - At indices: {negative_values.index.tolist()}\")\n",
    "                print(\"-\" * 70)\n",
    "        else:\n",
    "            print(f\"Warning: No 'Qout' column found in {os.path.basename(file_path)}\")\n",
    "            \n",
    "    except Exception as e:\n",
    "        print(f\"Error processing {os.path.basename(file_path)}: {e}\")\n",
    "\n",
    "# Summary report\n",
    "print(\"\\nSummary:\")\n",
    "print(f\"Total files checked: {total_files}\")\n",
    "print(f\"Files with negative Qout values: {files_with_negatives}\")\n",
    "print(f\"Total negative Qout values found: {total_negatives}\")\n",
    "\n",
    "if files_with_negatives == 0:\n",
    "    print(\"No negative Qout values found in any file.\")"
   ]
  }
 ],
 "metadata": {
  "language_info": {
   "name": "python"
  }
 },
 "nbformat": 4,
 "nbformat_minor": 5
}
